{
 "cells": [
  {
   "cell_type": "markdown",
   "id": "0f204562",
   "metadata": {},
   "source": [
    "# Intro. to Python\n",
    "NOTEBOOK AUTHOR: MUHAMMAD HAMAD"
   ]
  },
  {
   "cell_type": "code",
   "execution_count": 1,
   "id": "fdc63c92",
   "metadata": {},
   "outputs": [
    {
     "name": "stdout",
     "output_type": "stream",
     "text": [
      "Hello world\n"
     ]
    }
   ],
   "source": [
    "print(\"Hello world\")"
   ]
  },
  {
   "cell_type": "markdown",
   "id": "7b957f8b",
   "metadata": {},
   "source": [
    "### Task : How to take 2 inputs from user and  combine them and output them on console again"
   ]
  },
  {
   "cell_type": "code",
   "execution_count": 2,
   "id": "0efd9eb1",
   "metadata": {},
   "outputs": [
    {
     "name": "stdout",
     "output_type": "stream",
     "text": [
      "Enter 1st statement i am from pakistan\n",
      "Enter 2nd statement i am from america\n",
      "i am from pakistani am from america\n"
     ]
    }
   ],
   "source": [
    "a=input(\"Enter 1st statement \")\n",
    "b=input(\"Enter 2nd statement \")\n",
    "\n",
    "print(a+b)"
   ]
  },
  {
   "cell_type": "markdown",
   "id": "386b0461",
   "metadata": {},
   "source": [
    "### Task: Python Identifiers\n",
    "\n",
    "1. A Python identifier is a name used to identify a variable, function, class, module or other object.\n",
    "2. An identifier starts with a letter A to Z or a to z or an underscore (_) followed by zero or more letters, underscores and digits (0 to 9).\n",
    "3. Python does not allow punctuation characters such as @, $, and % within identifiers\n",
    "4. Python is a case sensitive programming language. Man and MAN are different"
   ]
  },
  {
   "cell_type": "code",
   "execution_count": 3,
   "id": "aa93e0a9",
   "metadata": {},
   "outputs": [],
   "source": [
    "Man=\"hamad\"\n",
    "man=\"ali\""
   ]
  },
  {
   "cell_type": "code",
   "execution_count": 4,
   "id": "b4bf467c",
   "metadata": {},
   "outputs": [
    {
     "data": {
      "text/plain": [
       "'ali'"
      ]
     },
     "execution_count": 4,
     "metadata": {},
     "output_type": "execute_result"
    }
   ],
   "source": [
    "man"
   ]
  },
  {
   "cell_type": "code",
   "execution_count": 5,
   "id": "4d97f4f8",
   "metadata": {},
   "outputs": [
    {
     "data": {
      "text/plain": [
       "'hamad'"
      ]
     },
     "execution_count": 5,
     "metadata": {},
     "output_type": "execute_result"
    }
   ],
   "source": [
    "Man"
   ]
  },
  {
   "cell_type": "markdown",
   "id": "d1986299",
   "metadata": {},
   "source": [
    "![](images/reserved.png)"
   ]
  },
  {
   "cell_type": "markdown",
   "id": "cdca4218",
   "metadata": {},
   "source": [
    "### Lines and Indentation\n",
    "\n",
    "1. Python does not use braces({}) to indicate blocks of code for class and function definitions or flow control. \n",
    "2. Blocks of code are denoted by line indentation, which is rigidly enforced. \n",
    "3. The number of spaces in the indentation is variable, but all statements within the block must be indented the same amount. "
   ]
  },
  {
   "cell_type": "code",
   "execution_count": 8,
   "id": "58706000",
   "metadata": {},
   "outputs": [
    {
     "name": "stdout",
     "output_type": "stream",
     "text": [
      "i am true\n"
     ]
    }
   ],
   "source": [
    "if True:\n",
    "    print(\"i am true\")\n",
    "else:\n",
    "    print(\"i am false\")"
   ]
  },
  {
   "cell_type": "code",
   "execution_count": 9,
   "id": "da20c477",
   "metadata": {},
   "outputs": [
    {
     "ename": "IndentationError",
     "evalue": "expected an indented block (<ipython-input-9-ea3b56c4bc4d>, line 2)",
     "output_type": "error",
     "traceback": [
      "\u001b[1;36m  File \u001b[1;32m\"<ipython-input-9-ea3b56c4bc4d>\"\u001b[1;36m, line \u001b[1;32m2\u001b[0m\n\u001b[1;33m    print(\"i am true\")\u001b[0m\n\u001b[1;37m    ^\u001b[0m\n\u001b[1;31mIndentationError\u001b[0m\u001b[1;31m:\u001b[0m expected an indented block\n"
     ]
    }
   ],
   "source": [
    "# improper indentation\n",
    "if True:\n",
    "print(\"i am true\")\n",
    "else:\n",
    "    print(\"i am false\")"
   ]
  },
  {
   "cell_type": "markdown",
   "id": "d6b93cff",
   "metadata": {},
   "source": [
    "### Task : Multi line statements"
   ]
  },
  {
   "cell_type": "code",
   "execution_count": 10,
   "id": "7d8d0f73",
   "metadata": {},
   "outputs": [
    {
     "ename": "IndentationError",
     "evalue": "unexpected indent (<ipython-input-10-3e42e2fc2d6e>, line 2)",
     "output_type": "error",
     "traceback": [
      "\u001b[1;36m  File \u001b[1;32m\"<ipython-input-10-3e42e2fc2d6e>\"\u001b[1;36m, line \u001b[1;32m2\u001b[0m\n\u001b[1;33m    +2\u001b[0m\n\u001b[1;37m    ^\u001b[0m\n\u001b[1;31mIndentationError\u001b[0m\u001b[1;31m:\u001b[0m unexpected indent\n"
     ]
    }
   ],
   "source": [
    "a=1\n",
    "    +2\n",
    "    +3"
   ]
  },
  {
   "cell_type": "code",
   "execution_count": 11,
   "id": "9a0f080d",
   "metadata": {},
   "outputs": [],
   "source": [
    "a= 1 \\\n",
    "    + 2 \\\n",
    "    + 3"
   ]
  },
  {
   "cell_type": "code",
   "execution_count": 12,
   "id": "6ec91b86",
   "metadata": {},
   "outputs": [
    {
     "data": {
      "text/plain": [
       "6"
      ]
     },
     "execution_count": 12,
     "metadata": {},
     "output_type": "execute_result"
    }
   ],
   "source": [
    "a"
   ]
  },
  {
   "cell_type": "markdown",
   "id": "8bf2f640",
   "metadata": {},
   "source": [
    "### Multiple statements on single line"
   ]
  },
  {
   "cell_type": "code",
   "execution_count": 13,
   "id": "83de5dbb",
   "metadata": {},
   "outputs": [
    {
     "name": "stdout",
     "output_type": "stream",
     "text": [
      "10\n"
     ]
    }
   ],
   "source": [
    "a=2 ; b=8 ; a=a+b ; print(a)"
   ]
  },
  {
   "cell_type": "code",
   "execution_count": null,
   "id": "28201d01",
   "metadata": {},
   "outputs": [],
   "source": []
  }
 ],
 "metadata": {
  "kernelspec": {
   "display_name": "Python 3",
   "language": "python",
   "name": "python3"
  },
  "language_info": {
   "codemirror_mode": {
    "name": "ipython",
    "version": 3
   },
   "file_extension": ".py",
   "mimetype": "text/x-python",
   "name": "python",
   "nbconvert_exporter": "python",
   "pygments_lexer": "ipython3",
   "version": "3.8.8"
  }
 },
 "nbformat": 4,
 "nbformat_minor": 5
}

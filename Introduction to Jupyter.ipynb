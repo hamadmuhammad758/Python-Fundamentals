{
 "cells": [
  {
   "cell_type": "markdown",
   "id": "fb1b9a56",
   "metadata": {},
   "source": [
    "# NoteBook\n",
    "## Author: Muhammad Hamad"
   ]
  },
  {
   "cell_type": "code",
   "execution_count": 4,
   "id": "dad03194",
   "metadata": {},
   "outputs": [
    {
     "name": "stdout",
     "output_type": "stream",
     "text": [
      "Hello\n"
     ]
    }
   ],
   "source": [
    "# How to output on Console in python\n",
    "print(\"Hello\")"
   ]
  },
  {
   "cell_type": "code",
   "execution_count": 5,
   "id": "de30aef1",
   "metadata": {},
   "outputs": [
    {
     "name": "stdout",
     "output_type": "stream",
     "text": [
      "Enter data23\n"
     ]
    }
   ],
   "source": [
    "a=input(\"Enter data\")"
   ]
  },
  {
   "cell_type": "code",
   "execution_count": 7,
   "id": "5830dc60",
   "metadata": {},
   "outputs": [
    {
     "name": "stdout",
     "output_type": "stream",
     "text": [
      "another\n"
     ]
    }
   ],
   "source": [
    "print(\"another\")"
   ]
  },
  {
   "cell_type": "code",
   "execution_count": 8,
   "id": "1157849d",
   "metadata": {},
   "outputs": [
    {
     "name": "stdout",
     "output_type": "stream",
     "text": [
      "This line is for github\n"
     ]
    }
   ],
   "source": [
    "print(\"This line is for github\")"
   ]
  },
  {
   "cell_type": "code",
   "execution_count": null,
   "id": "e67bd216",
   "metadata": {},
   "outputs": [],
   "source": []
  }
 ],
 "metadata": {
  "kernelspec": {
   "display_name": "Python 3",
   "language": "python",
   "name": "python3"
  },
  "language_info": {
   "codemirror_mode": {
    "name": "ipython",
    "version": 3
   },
   "file_extension": ".py",
   "mimetype": "text/x-python",
   "name": "python",
   "nbconvert_exporter": "python",
   "pygments_lexer": "ipython3",
   "version": "3.8.8"
  }
 },
 "nbformat": 4,
 "nbformat_minor": 5
}

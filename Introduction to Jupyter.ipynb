{
 "cells": [
  {
   "cell_type": "markdown",
   "id": "c13581e6",
   "metadata": {},
   "source": [
    "# NoteBook\n",
    "## Author: Muhammad Hamad"
   ]
  },
  {
   "cell_type": "code",
   "execution_count": 4,
   "id": "87734b16",
   "metadata": {},
   "outputs": [
    {
     "name": "stdout",
     "output_type": "stream",
     "text": [
      "Hello\n"
     ]
    }
   ],
   "source": [
    "# How to output on Console in python\n",
    "print(\"Hello\")"
   ]
  },
  {
   "cell_type": "code",
   "execution_count": 5,
   "id": "abe8d6d8",
   "metadata": {},
   "outputs": [
    {
     "name": "stdout",
     "output_type": "stream",
     "text": [
      "Enter data23\n"
     ]
    }
   ],
   "source": [
    "a=input(\"Enter data\")"
   ]
  },
  {
   "cell_type": "code",
   "execution_count": null,
   "id": "8b95b5f2",
   "metadata": {},
   "outputs": [],
   "source": []
  },
  {
   "cell_type": "code",
   "execution_count": null,
   "id": "d7b12ddd",
   "metadata": {},
   "outputs": [],
   "source": []
  }
 ],
 "metadata": {
  "kernelspec": {
   "display_name": "Python 3",
   "language": "python",
   "name": "python3"
  },
  "language_info": {
   "codemirror_mode": {
    "name": "ipython",
    "version": 3
   },
   "file_extension": ".py",
   "mimetype": "text/x-python",
   "name": "python",
   "nbconvert_exporter": "python",
   "pygments_lexer": "ipython3",
   "version": "3.8.8"
  }
 },
 "nbformat": 4,
 "nbformat_minor": 5
}
